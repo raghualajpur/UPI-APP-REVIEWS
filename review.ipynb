{
 "cells": [
  {
   "cell_type": "code",
   "execution_count": 5,
   "metadata": {},
   "outputs": [],
   "source": [
    "import pandas as pd\n",
    "import numpy as np\n",
    "import matplotlib.pyplot as plt\n",
    "import seaborn as sns"
   ]
  },
  {
   "cell_type": "code",
   "execution_count": 6,
   "metadata": {},
   "outputs": [],
   "source": [
    "google_data = pd.read_csv(\"GooglePayIndia.csv\")\n",
    "paytm_data = pd.read_csv(\"PaytmIndia.csv\")\n",
    "phonepay_data = pd.read_csv(\"PhonePayIndia.csv\")"
   ]
  },
  {
   "cell_type": "code",
   "execution_count": 7,
   "metadata": {},
   "outputs": [
    {
     "data": {
      "text/html": [
       "<div>\n",
       "<style scoped>\n",
       "    .dataframe tbody tr th:only-of-type {\n",
       "        vertical-align: middle;\n",
       "    }\n",
       "\n",
       "    .dataframe tbody tr th {\n",
       "        vertical-align: top;\n",
       "    }\n",
       "\n",
       "    .dataframe thead th {\n",
       "        text-align: right;\n",
       "    }\n",
       "</style>\n",
       "<table border=\"1\" class=\"dataframe\">\n",
       "  <thead>\n",
       "    <tr style=\"text-align: right;\">\n",
       "      <th></th>\n",
       "      <th>Unnamed: 0</th>\n",
       "      <th>reviewId</th>\n",
       "      <th>userName</th>\n",
       "      <th>userImage</th>\n",
       "      <th>content</th>\n",
       "      <th>score</th>\n",
       "      <th>thumbsUpCount</th>\n",
       "      <th>reviewCreatedVersion</th>\n",
       "      <th>at</th>\n",
       "      <th>replyContent</th>\n",
       "      <th>repliedAt</th>\n",
       "    </tr>\n",
       "  </thead>\n",
       "  <tbody>\n",
       "    <tr>\n",
       "      <th>0</th>\n",
       "      <td>0</td>\n",
       "      <td>gp:AOqpTOEdT_VactGi_J9Q2PEWY7J4XlD7BINhOj9xwOr...</td>\n",
       "      <td>Len Pagnam</td>\n",
       "      <td>https://play-lh.googleusercontent.com/a-/AOh14...</td>\n",
       "      <td>How do add a boarding pass? I see no passes tab.</td>\n",
       "      <td>1</td>\n",
       "      <td>0</td>\n",
       "      <td>2.137.401329300</td>\n",
       "      <td>2021-11-18 17:03:06</td>\n",
       "      <td>Hi Len. Could you try the steps in this guide ...</td>\n",
       "      <td>2021-11-18 17:27:11</td>\n",
       "    </tr>\n",
       "    <tr>\n",
       "      <th>1</th>\n",
       "      <td>1</td>\n",
       "      <td>gp:AOqpTOHltpCzXurPoFUgj-a3L-wApC93-fTvocbF9K7...</td>\n",
       "      <td>Benjamin Silva</td>\n",
       "      <td>https://play-lh.googleusercontent.com/a/AATXAJ...</td>\n",
       "      <td>Best</td>\n",
       "      <td>5</td>\n",
       "      <td>0</td>\n",
       "      <td>2.134.392709498</td>\n",
       "      <td>2021-11-18 16:43:34</td>\n",
       "      <td>NaN</td>\n",
       "      <td>NaN</td>\n",
       "    </tr>\n",
       "    <tr>\n",
       "      <th>2</th>\n",
       "      <td>2</td>\n",
       "      <td>gp:AOqpTOGTiyxy_FWSQe7eCONa7PsIP6v7cS-xWCL6jFF...</td>\n",
       "      <td>PARVESH MIAR</td>\n",
       "      <td>https://play-lh.googleusercontent.com/a-/AOh14...</td>\n",
       "      <td>All ok</td>\n",
       "      <td>5</td>\n",
       "      <td>0</td>\n",
       "      <td>2.138.406141160</td>\n",
       "      <td>2021-11-18 16:12:42</td>\n",
       "      <td>NaN</td>\n",
       "      <td>NaN</td>\n",
       "    </tr>\n",
       "    <tr>\n",
       "      <th>3</th>\n",
       "      <td>3</td>\n",
       "      <td>gp:AOqpTOHllyGnmLGZqPUGokxYncq9kOKoY3Zz_4ZF6b0...</td>\n",
       "      <td>Mikko L.</td>\n",
       "      <td>https://play-lh.googleusercontent.com/a-/AOh14...</td>\n",
       "      <td>Rasy to use really... But there never, ever sh...</td>\n",
       "      <td>3</td>\n",
       "      <td>0</td>\n",
       "      <td>2.138.406141160</td>\n",
       "      <td>2021-11-18 16:06:35</td>\n",
       "      <td>NaN</td>\n",
       "      <td>NaN</td>\n",
       "    </tr>\n",
       "    <tr>\n",
       "      <th>4</th>\n",
       "      <td>4</td>\n",
       "      <td>gp:AOqpTOHjnJ6gAF4NzruhLDGVszAaTKSerVeKt-UtJfM...</td>\n",
       "      <td>A Google user</td>\n",
       "      <td>https://play-lh.googleusercontent.com/EGemoI2N...</td>\n",
       "      <td>I still do not understand why your restricting...</td>\n",
       "      <td>3</td>\n",
       "      <td>251</td>\n",
       "      <td>2.134.392709498</td>\n",
       "      <td>2021-11-18 15:48:08</td>\n",
       "      <td>NaN</td>\n",
       "      <td>NaN</td>\n",
       "    </tr>\n",
       "  </tbody>\n",
       "</table>\n",
       "</div>"
      ],
      "text/plain": [
       "   Unnamed: 0                                           reviewId  \\\n",
       "0           0  gp:AOqpTOEdT_VactGi_J9Q2PEWY7J4XlD7BINhOj9xwOr...   \n",
       "1           1  gp:AOqpTOHltpCzXurPoFUgj-a3L-wApC93-fTvocbF9K7...   \n",
       "2           2  gp:AOqpTOGTiyxy_FWSQe7eCONa7PsIP6v7cS-xWCL6jFF...   \n",
       "3           3  gp:AOqpTOHllyGnmLGZqPUGokxYncq9kOKoY3Zz_4ZF6b0...   \n",
       "4           4  gp:AOqpTOHjnJ6gAF4NzruhLDGVszAaTKSerVeKt-UtJfM...   \n",
       "\n",
       "         userName                                          userImage  \\\n",
       "0      Len Pagnam  https://play-lh.googleusercontent.com/a-/AOh14...   \n",
       "1  Benjamin Silva  https://play-lh.googleusercontent.com/a/AATXAJ...   \n",
       "2    PARVESH MIAR  https://play-lh.googleusercontent.com/a-/AOh14...   \n",
       "3        Mikko L.  https://play-lh.googleusercontent.com/a-/AOh14...   \n",
       "4   A Google user  https://play-lh.googleusercontent.com/EGemoI2N...   \n",
       "\n",
       "                                             content  score  thumbsUpCount  \\\n",
       "0   How do add a boarding pass? I see no passes tab.      1              0   \n",
       "1                                               Best      5              0   \n",
       "2                                             All ok      5              0   \n",
       "3  Rasy to use really... But there never, ever sh...      3              0   \n",
       "4  I still do not understand why your restricting...      3            251   \n",
       "\n",
       "  reviewCreatedVersion                   at  \\\n",
       "0      2.137.401329300  2021-11-18 17:03:06   \n",
       "1      2.134.392709498  2021-11-18 16:43:34   \n",
       "2      2.138.406141160  2021-11-18 16:12:42   \n",
       "3      2.138.406141160  2021-11-18 16:06:35   \n",
       "4      2.134.392709498  2021-11-18 15:48:08   \n",
       "\n",
       "                                        replyContent            repliedAt  \n",
       "0  Hi Len. Could you try the steps in this guide ...  2021-11-18 17:27:11  \n",
       "1                                                NaN                  NaN  \n",
       "2                                                NaN                  NaN  \n",
       "3                                                NaN                  NaN  \n",
       "4                                                NaN                  NaN  "
      ]
     },
     "execution_count": 7,
     "metadata": {},
     "output_type": "execute_result"
    }
   ],
   "source": [
    "google_data.head()"
   ]
  },
  {
   "cell_type": "code",
   "execution_count": 8,
   "metadata": {},
   "outputs": [
    {
     "data": {
      "text/html": [
       "<div>\n",
       "<style scoped>\n",
       "    .dataframe tbody tr th:only-of-type {\n",
       "        vertical-align: middle;\n",
       "    }\n",
       "\n",
       "    .dataframe tbody tr th {\n",
       "        vertical-align: top;\n",
       "    }\n",
       "\n",
       "    .dataframe thead th {\n",
       "        text-align: right;\n",
       "    }\n",
       "</style>\n",
       "<table border=\"1\" class=\"dataframe\">\n",
       "  <thead>\n",
       "    <tr style=\"text-align: right;\">\n",
       "      <th></th>\n",
       "      <th>Unnamed: 0</th>\n",
       "      <th>reviewId</th>\n",
       "      <th>userName</th>\n",
       "      <th>userImage</th>\n",
       "      <th>content</th>\n",
       "      <th>score</th>\n",
       "      <th>thumbsUpCount</th>\n",
       "      <th>reviewCreatedVersion</th>\n",
       "      <th>at</th>\n",
       "      <th>replyContent</th>\n",
       "      <th>repliedAt</th>\n",
       "    </tr>\n",
       "  </thead>\n",
       "  <tbody>\n",
       "    <tr>\n",
       "      <th>0</th>\n",
       "      <td>0</td>\n",
       "      <td>gp:AOqpTOEc6EnY3FO6tSm3wM-BBLk-WIELfZcXamX2umO...</td>\n",
       "      <td>HARSH KASHYAP</td>\n",
       "      <td>https://play-lh.googleusercontent.com/a-/AOh14...</td>\n",
       "      <td>Op</td>\n",
       "      <td>5</td>\n",
       "      <td>0</td>\n",
       "      <td>NaN</td>\n",
       "      <td>2021-11-18 18:42:29</td>\n",
       "      <td>NaN</td>\n",
       "      <td>NaN</td>\n",
       "    </tr>\n",
       "    <tr>\n",
       "      <th>1</th>\n",
       "      <td>1</td>\n",
       "      <td>gp:AOqpTOFD057GRoLc_eZm_mijn7p_wL9DtQoxrYnL_Gg...</td>\n",
       "      <td>manikeswar shabar</td>\n",
       "      <td>https://play-lh.googleusercontent.com/a-/AOh14...</td>\n",
       "      <td>Good</td>\n",
       "      <td>5</td>\n",
       "      <td>0</td>\n",
       "      <td>9.17.3</td>\n",
       "      <td>2021-11-18 18:41:39</td>\n",
       "      <td>NaN</td>\n",
       "      <td>NaN</td>\n",
       "    </tr>\n",
       "    <tr>\n",
       "      <th>2</th>\n",
       "      <td>2</td>\n",
       "      <td>gp:AOqpTOGse_Ua7yhZRYP0bvEWZ4DqJlOAJWLQC1376sQ...</td>\n",
       "      <td>Rajendra Kumar</td>\n",
       "      <td>https://play-lh.googleusercontent.com/a/AATXAJ...</td>\n",
       "      <td>My paytm wallet app is open 😊</td>\n",
       "      <td>4</td>\n",
       "      <td>0</td>\n",
       "      <td>9.17.3</td>\n",
       "      <td>2021-11-18 18:41:35</td>\n",
       "      <td>Hi Rajendra! We’d like to take a closer look a...</td>\n",
       "      <td>2021-11-18 16:14:32</td>\n",
       "    </tr>\n",
       "    <tr>\n",
       "      <th>3</th>\n",
       "      <td>3</td>\n",
       "      <td>gp:AOqpTOGRVqBtB88sM6cyPudXWCG1SH_6jccdyaRNkO-...</td>\n",
       "      <td>Kagga Balaji</td>\n",
       "      <td>https://play-lh.googleusercontent.com/a/AATXAJ...</td>\n",
       "      <td>Super</td>\n",
       "      <td>5</td>\n",
       "      <td>0</td>\n",
       "      <td>9.17.3</td>\n",
       "      <td>2021-11-18 18:41:33</td>\n",
       "      <td>NaN</td>\n",
       "      <td>NaN</td>\n",
       "    </tr>\n",
       "    <tr>\n",
       "      <th>4</th>\n",
       "      <td>4</td>\n",
       "      <td>gp:AOqpTOHFQGJvGKSgSfzzd7jtRS68lYQNfk5rs0-u2gZ...</td>\n",
       "      <td>Ajay Pandey</td>\n",
       "      <td>https://play-lh.googleusercontent.com/a/AATXAJ...</td>\n",
       "      <td>The best</td>\n",
       "      <td>5</td>\n",
       "      <td>0</td>\n",
       "      <td>9.17.3</td>\n",
       "      <td>2021-11-18 18:41:11</td>\n",
       "      <td>NaN</td>\n",
       "      <td>NaN</td>\n",
       "    </tr>\n",
       "  </tbody>\n",
       "</table>\n",
       "</div>"
      ],
      "text/plain": [
       "   Unnamed: 0                                           reviewId  \\\n",
       "0           0  gp:AOqpTOEc6EnY3FO6tSm3wM-BBLk-WIELfZcXamX2umO...   \n",
       "1           1  gp:AOqpTOFD057GRoLc_eZm_mijn7p_wL9DtQoxrYnL_Gg...   \n",
       "2           2  gp:AOqpTOGse_Ua7yhZRYP0bvEWZ4DqJlOAJWLQC1376sQ...   \n",
       "3           3  gp:AOqpTOGRVqBtB88sM6cyPudXWCG1SH_6jccdyaRNkO-...   \n",
       "4           4  gp:AOqpTOHFQGJvGKSgSfzzd7jtRS68lYQNfk5rs0-u2gZ...   \n",
       "\n",
       "            userName                                          userImage  \\\n",
       "0      HARSH KASHYAP  https://play-lh.googleusercontent.com/a-/AOh14...   \n",
       "1  manikeswar shabar  https://play-lh.googleusercontent.com/a-/AOh14...   \n",
       "2     Rajendra Kumar  https://play-lh.googleusercontent.com/a/AATXAJ...   \n",
       "3       Kagga Balaji  https://play-lh.googleusercontent.com/a/AATXAJ...   \n",
       "4        Ajay Pandey  https://play-lh.googleusercontent.com/a/AATXAJ...   \n",
       "\n",
       "                         content  score  thumbsUpCount reviewCreatedVersion  \\\n",
       "0                             Op      5              0                  NaN   \n",
       "1                           Good      5              0               9.17.3   \n",
       "2  My paytm wallet app is open 😊      4              0               9.17.3   \n",
       "3                          Super      5              0               9.17.3   \n",
       "4                       The best      5              0               9.17.3   \n",
       "\n",
       "                    at                                       replyContent  \\\n",
       "0  2021-11-18 18:42:29                                                NaN   \n",
       "1  2021-11-18 18:41:39                                                NaN   \n",
       "2  2021-11-18 18:41:35  Hi Rajendra! We’d like to take a closer look a...   \n",
       "3  2021-11-18 18:41:33                                                NaN   \n",
       "4  2021-11-18 18:41:11                                                NaN   \n",
       "\n",
       "             repliedAt  \n",
       "0                  NaN  \n",
       "1                  NaN  \n",
       "2  2021-11-18 16:14:32  \n",
       "3                  NaN  \n",
       "4                  NaN  "
      ]
     },
     "execution_count": 8,
     "metadata": {},
     "output_type": "execute_result"
    }
   ],
   "source": [
    "paytm_data.head()"
   ]
  },
  {
   "cell_type": "code",
   "execution_count": 9,
   "metadata": {},
   "outputs": [
    {
     "data": {
      "text/html": [
       "<div>\n",
       "<style scoped>\n",
       "    .dataframe tbody tr th:only-of-type {\n",
       "        vertical-align: middle;\n",
       "    }\n",
       "\n",
       "    .dataframe tbody tr th {\n",
       "        vertical-align: top;\n",
       "    }\n",
       "\n",
       "    .dataframe thead th {\n",
       "        text-align: right;\n",
       "    }\n",
       "</style>\n",
       "<table border=\"1\" class=\"dataframe\">\n",
       "  <thead>\n",
       "    <tr style=\"text-align: right;\">\n",
       "      <th></th>\n",
       "      <th>Unnamed: 0</th>\n",
       "      <th>reviewId</th>\n",
       "      <th>userName</th>\n",
       "      <th>userImage</th>\n",
       "      <th>content</th>\n",
       "      <th>score</th>\n",
       "      <th>thumbsUpCount</th>\n",
       "      <th>reviewCreatedVersion</th>\n",
       "      <th>at</th>\n",
       "      <th>replyContent</th>\n",
       "      <th>repliedAt</th>\n",
       "    </tr>\n",
       "  </thead>\n",
       "  <tbody>\n",
       "    <tr>\n",
       "      <th>0</th>\n",
       "      <td>0</td>\n",
       "      <td>gp:AOqpTOGzdJxN4w4Xt7Uj3Xv1643TSxHxgEupPopMLfe...</td>\n",
       "      <td>Akki Love</td>\n",
       "      <td>https://play-lh.googleusercontent.com/a/AATXAJ...</td>\n",
       "      <td>Nice app</td>\n",
       "      <td>5</td>\n",
       "      <td>0</td>\n",
       "      <td>4.0.18</td>\n",
       "      <td>2021-11-18 18:37:42</td>\n",
       "      <td>NaN</td>\n",
       "      <td>NaN</td>\n",
       "    </tr>\n",
       "    <tr>\n",
       "      <th>1</th>\n",
       "      <td>1</td>\n",
       "      <td>gp:AOqpTOGg0B7fjwyBlTD-1Sa-UxAWV7_AXNDQyLzb4cH...</td>\n",
       "      <td>datta samindar</td>\n",
       "      <td>https://play-lh.googleusercontent.com/a-/AOh14...</td>\n",
       "      <td>Sup</td>\n",
       "      <td>5</td>\n",
       "      <td>0</td>\n",
       "      <td>NaN</td>\n",
       "      <td>2021-11-18 18:37:35</td>\n",
       "      <td>NaN</td>\n",
       "      <td>NaN</td>\n",
       "    </tr>\n",
       "    <tr>\n",
       "      <th>2</th>\n",
       "      <td>2</td>\n",
       "      <td>gp:AOqpTOFhQbsuL9mVajhqY8hukiQzOeqx8P7FeSK2nsM...</td>\n",
       "      <td>Rahul Jadhav</td>\n",
       "      <td>https://play-lh.googleusercontent.com/a-/AOh14...</td>\n",
       "      <td>😤</td>\n",
       "      <td>1</td>\n",
       "      <td>0</td>\n",
       "      <td>4.1.23</td>\n",
       "      <td>2021-11-18 18:36:58</td>\n",
       "      <td>NaN</td>\n",
       "      <td>NaN</td>\n",
       "    </tr>\n",
       "    <tr>\n",
       "      <th>3</th>\n",
       "      <td>3</td>\n",
       "      <td>gp:AOqpTOHA1KGb6C90eCxXxpIWWTMsV4ia7OlXzEuGOwA...</td>\n",
       "      <td>Rao Farman Ali</td>\n",
       "      <td>https://play-lh.googleusercontent.com/a-/AOh14...</td>\n",
       "      <td>मेरे खाते से पैसे कट गए और जिसे मैने पैसे भेजे...</td>\n",
       "      <td>1</td>\n",
       "      <td>0</td>\n",
       "      <td>4.1.25</td>\n",
       "      <td>2021-11-18 18:36:22</td>\n",
       "      <td>NaN</td>\n",
       "      <td>NaN</td>\n",
       "    </tr>\n",
       "    <tr>\n",
       "      <th>4</th>\n",
       "      <td>4</td>\n",
       "      <td>gp:AOqpTOE9ZJT-nlC9-JeDjgnTSORq_tD-_gkrIiRRUfE...</td>\n",
       "      <td>Tapaswini Rana</td>\n",
       "      <td>https://play-lh.googleusercontent.com/a/AATXAJ...</td>\n",
       "      <td>Useful application</td>\n",
       "      <td>5</td>\n",
       "      <td>0</td>\n",
       "      <td>4.1.25</td>\n",
       "      <td>2021-11-18 18:35:39</td>\n",
       "      <td>NaN</td>\n",
       "      <td>NaN</td>\n",
       "    </tr>\n",
       "  </tbody>\n",
       "</table>\n",
       "</div>"
      ],
      "text/plain": [
       "   Unnamed: 0                                           reviewId  \\\n",
       "0           0  gp:AOqpTOGzdJxN4w4Xt7Uj3Xv1643TSxHxgEupPopMLfe...   \n",
       "1           1  gp:AOqpTOGg0B7fjwyBlTD-1Sa-UxAWV7_AXNDQyLzb4cH...   \n",
       "2           2  gp:AOqpTOFhQbsuL9mVajhqY8hukiQzOeqx8P7FeSK2nsM...   \n",
       "3           3  gp:AOqpTOHA1KGb6C90eCxXxpIWWTMsV4ia7OlXzEuGOwA...   \n",
       "4           4  gp:AOqpTOE9ZJT-nlC9-JeDjgnTSORq_tD-_gkrIiRRUfE...   \n",
       "\n",
       "         userName                                          userImage  \\\n",
       "0       Akki Love  https://play-lh.googleusercontent.com/a/AATXAJ...   \n",
       "1  datta samindar  https://play-lh.googleusercontent.com/a-/AOh14...   \n",
       "2    Rahul Jadhav  https://play-lh.googleusercontent.com/a-/AOh14...   \n",
       "3  Rao Farman Ali  https://play-lh.googleusercontent.com/a-/AOh14...   \n",
       "4  Tapaswini Rana  https://play-lh.googleusercontent.com/a/AATXAJ...   \n",
       "\n",
       "                                             content  score  thumbsUpCount  \\\n",
       "0                                           Nice app      5              0   \n",
       "1                                                Sup      5              0   \n",
       "2                                                  😤      1              0   \n",
       "3  मेरे खाते से पैसे कट गए और जिसे मैने पैसे भेजे...      1              0   \n",
       "4                                 Useful application      5              0   \n",
       "\n",
       "  reviewCreatedVersion                   at replyContent repliedAt  \n",
       "0               4.0.18  2021-11-18 18:37:42          NaN       NaN  \n",
       "1                  NaN  2021-11-18 18:37:35          NaN       NaN  \n",
       "2               4.1.23  2021-11-18 18:36:58          NaN       NaN  \n",
       "3               4.1.25  2021-11-18 18:36:22          NaN       NaN  \n",
       "4               4.1.25  2021-11-18 18:35:39          NaN       NaN  "
      ]
     },
     "execution_count": 9,
     "metadata": {},
     "output_type": "execute_result"
    }
   ],
   "source": [
    "phonepay_data.head()"
   ]
  },
  {
   "cell_type": "code",
   "execution_count": 10,
   "metadata": {},
   "outputs": [
    {
     "name": "stdout",
     "output_type": "stream",
     "text": [
      "<class 'pandas.core.frame.DataFrame'>\n",
      "RangeIndex: 34228 entries, 0 to 34227\n",
      "Data columns (total 11 columns):\n",
      " #   Column                Non-Null Count  Dtype \n",
      "---  ------                --------------  ----- \n",
      " 0   Unnamed: 0            34228 non-null  int64 \n",
      " 1   reviewId              34228 non-null  object\n",
      " 2   userName              34227 non-null  object\n",
      " 3   userImage             34228 non-null  object\n",
      " 4   content               34223 non-null  object\n",
      " 5   score                 34228 non-null  int64 \n",
      " 6   thumbsUpCount         34228 non-null  int64 \n",
      " 7   reviewCreatedVersion  29987 non-null  object\n",
      " 8   at                    34228 non-null  object\n",
      " 9   replyContent          6112 non-null   object\n",
      " 10  repliedAt             6112 non-null   object\n",
      "dtypes: int64(3), object(8)\n",
      "memory usage: 2.9+ MB\n"
     ]
    }
   ],
   "source": [
    "google_data.info()"
   ]
  },
  {
   "cell_type": "code",
   "execution_count": 11,
   "metadata": {},
   "outputs": [
    {
     "name": "stdout",
     "output_type": "stream",
     "text": [
      "<class 'pandas.core.frame.DataFrame'>\n",
      "RangeIndex: 137907 entries, 0 to 137906\n",
      "Data columns (total 11 columns):\n",
      " #   Column                Non-Null Count   Dtype \n",
      "---  ------                --------------   ----- \n",
      " 0   Unnamed: 0            137907 non-null  int64 \n",
      " 1   reviewId              137907 non-null  object\n",
      " 2   userName              137907 non-null  object\n",
      " 3   userImage             137907 non-null  object\n",
      " 4   content               137905 non-null  object\n",
      " 5   score                 137907 non-null  int64 \n",
      " 6   thumbsUpCount         137907 non-null  int64 \n",
      " 7   reviewCreatedVersion  114242 non-null  object\n",
      " 8   at                    137907 non-null  object\n",
      " 9   replyContent          68127 non-null   object\n",
      " 10  repliedAt             68127 non-null   object\n",
      "dtypes: int64(3), object(8)\n",
      "memory usage: 11.6+ MB\n"
     ]
    }
   ],
   "source": [
    "paytm_data.info()"
   ]
  },
  {
   "cell_type": "code",
   "execution_count": 12,
   "metadata": {},
   "outputs": [
    {
     "name": "stdout",
     "output_type": "stream",
     "text": [
      "<class 'pandas.core.frame.DataFrame'>\n",
      "RangeIndex: 11741 entries, 0 to 11740\n",
      "Data columns (total 11 columns):\n",
      " #   Column                Non-Null Count  Dtype \n",
      "---  ------                --------------  ----- \n",
      " 0   Unnamed: 0            11741 non-null  int64 \n",
      " 1   reviewId              11741 non-null  object\n",
      " 2   userName              11741 non-null  object\n",
      " 3   userImage             11741 non-null  object\n",
      " 4   content               11741 non-null  object\n",
      " 5   score                 11741 non-null  int64 \n",
      " 6   thumbsUpCount         11741 non-null  int64 \n",
      " 7   reviewCreatedVersion  9605 non-null   object\n",
      " 8   at                    11741 non-null  object\n",
      " 9   replyContent          2936 non-null   object\n",
      " 10  repliedAt             2936 non-null   object\n",
      "dtypes: int64(3), object(8)\n",
      "memory usage: 1009.1+ KB\n"
     ]
    }
   ],
   "source": [
    "phonepay_data.info()"
   ]
  },
  {
   "cell_type": "code",
   "execution_count": 13,
   "metadata": {},
   "outputs": [
    {
     "data": {
      "text/plain": [
       "Unnamed: 0                  0\n",
       "reviewId                    0\n",
       "userName                    1\n",
       "userImage                   0\n",
       "content                     5\n",
       "score                       0\n",
       "thumbsUpCount               0\n",
       "reviewCreatedVersion     4241\n",
       "at                          0\n",
       "replyContent            28116\n",
       "repliedAt               28116\n",
       "dtype: int64"
      ]
     },
     "execution_count": 13,
     "metadata": {},
     "output_type": "execute_result"
    }
   ],
   "source": [
    "google_data.isna().sum()"
   ]
  },
  {
   "cell_type": "code",
   "execution_count": 14,
   "metadata": {},
   "outputs": [
    {
     "data": {
      "text/plain": [
       "Unnamed: 0                  0\n",
       "reviewId                    0\n",
       "userName                    0\n",
       "userImage                   0\n",
       "content                     2\n",
       "score                       0\n",
       "thumbsUpCount               0\n",
       "reviewCreatedVersion    23665\n",
       "at                          0\n",
       "replyContent            69780\n",
       "repliedAt               69780\n",
       "dtype: int64"
      ]
     },
     "execution_count": 14,
     "metadata": {},
     "output_type": "execute_result"
    }
   ],
   "source": [
    "paytm_data.isna().sum()"
   ]
  },
  {
   "cell_type": "code",
   "execution_count": 15,
   "metadata": {},
   "outputs": [
    {
     "data": {
      "text/plain": [
       "Unnamed: 0                 0\n",
       "reviewId                   0\n",
       "userName                   0\n",
       "userImage                  0\n",
       "content                    0\n",
       "score                      0\n",
       "thumbsUpCount              0\n",
       "reviewCreatedVersion    2136\n",
       "at                         0\n",
       "replyContent            8805\n",
       "repliedAt               8805\n",
       "dtype: int64"
      ]
     },
     "execution_count": 15,
     "metadata": {},
     "output_type": "execute_result"
    }
   ],
   "source": [
    "phonepay_data.isna().sum()"
   ]
  },
  {
   "cell_type": "code",
   "execution_count": 16,
   "metadata": {},
   "outputs": [
    {
     "data": {
      "text/plain": [
       "Unnamed: 0       0\n",
       "score            0\n",
       "thumbsUpCount    0\n",
       "dtype: int64"
      ]
     },
     "execution_count": 16,
     "metadata": {},
     "output_type": "execute_result"
    }
   ],
   "source": [
    "num_category = [feature for feature in google_data.columns if google_data[feature].dtypes != \"O\"]\n",
    "google_data[num_category].isnull().sum()"
   ]
  },
  {
   "cell_type": "code",
   "execution_count": 17,
   "metadata": {},
   "outputs": [
    {
     "data": {
      "text/plain": [
       "Unnamed: 0       0\n",
       "score            0\n",
       "thumbsUpCount    0\n",
       "dtype: int64"
      ]
     },
     "execution_count": 17,
     "metadata": {},
     "output_type": "execute_result"
    }
   ],
   "source": [
    "num_category = [feature for feature in paytm_data.columns if paytm_data[feature].dtypes != \"O\"]\n",
    "paytm_data[num_category].isnull().sum()"
   ]
  },
  {
   "cell_type": "code",
   "execution_count": 18,
   "metadata": {},
   "outputs": [
    {
     "data": {
      "text/plain": [
       "Unnamed: 0       0\n",
       "score            0\n",
       "thumbsUpCount    0\n",
       "dtype: int64"
      ]
     },
     "execution_count": 18,
     "metadata": {},
     "output_type": "execute_result"
    }
   ],
   "source": [
    "num_category = [feature for feature in phonepay_data.columns if phonepay_data[feature].dtypes != \"O\"]\n",
    "phonepay_data[num_category].isnull().sum()"
   ]
  },
  {
   "cell_type": "code",
   "execution_count": 19,
   "metadata": {},
   "outputs": [
    {
     "data": {
      "text/plain": [
       "<AxesSubplot:title={'center':'Checking Outliers in PhonePay thumbsUpCount Column'}, xlabel='thumbsUpCount'>"
      ]
     },
     "execution_count": 19,
     "metadata": {},
     "output_type": "execute_result"
    },
    {
     "data": {
      "image/png": "[encoded data removed]",
      "text/plain": [
       "<Figure size 720x288 with 1 Axes>"
      ]
     },
     "metadata": {
      "needs_background": "light"
     },
     "output_type": "display_data"
    },
    {
     "data": {
      "image/png": "[encoded data removed]",
      "text/plain": [
       "<Figure size 720x288 with 1 Axes>"
      ]
     },
     "metadata": {
      "needs_background": "light"
     },
     "output_type": "display_data"
    },
    {
     "data": {
      "image/png": "[encoded data removed]",
      "text/plain": [
       "<Figure size 720x288 with 1 Axes>"
      ]
     },
     "metadata": {
      "needs_background": "light"
     },
     "output_type": "display_data"
    }
   ],
   "source": [
    "plt.figure(figsize=(10,4))\n",
    "plt.xlim(-100, 3000)\n",
    "flierprops = dict(marker='o', markerfacecolor='purple', markersize=6,\n",
    "                  linestyle='none', markeredgecolor='black')\n",
    "plt.title(\"Checking Outliers in Google thumbsUpCount Column\")\n",
    "sns.boxplot(x=google_data.thumbsUpCount, flierprops=flierprops)\n",
    "\n",
    "plt.figure(figsize=(10,4))\n",
    "plt.title(\"Checking Outliers in Paytm thumbsUpCount Column\")\n",
    "plt.xlim(paytm_data.thumbsUpCount.min(), paytm_data.thumbsUpCount.max()*1.1)\n",
    "sns.boxplot(x=paytm_data.thumbsUpCount, flierprops=flierprops)\n",
    "\n",
    "plt.figure(figsize=(10,4))\n",
    "plt.title(\"Checking Outliers in PhonePay thumbsUpCount Column\")\n",
    "plt.xlim(phonepay_data.thumbsUpCount.min(), phonepay_data.thumbsUpCount.max()*1.1)\n",
    "sns.boxplot(x=phonepay_data.thumbsUpCount, flierprops=flierprops)"
   ]
  },
  {
   "cell_type": "code",
   "execution_count": 20,
   "metadata": {},
   "outputs": [
    {
     "data": {
      "text/html": [
       "<div>\n",
       "<style scoped>\n",
       "    .dataframe tbody tr th:only-of-type {\n",
       "        vertical-align: middle;\n",
       "    }\n",
       "\n",
       "    .dataframe tbody tr th {\n",
       "        vertical-align: top;\n",
       "    }\n",
       "\n",
       "    .dataframe thead th {\n",
       "        text-align: right;\n",
       "    }\n",
       "</style>\n",
       "<table border=\"1\" class=\"dataframe\">\n",
       "  <thead>\n",
       "    <tr style=\"text-align: right;\">\n",
       "      <th></th>\n",
       "      <th>Unnamed: 0</th>\n",
       "      <th>reviewId</th>\n",
       "      <th>userName</th>\n",
       "      <th>userImage</th>\n",
       "      <th>content</th>\n",
       "      <th>score</th>\n",
       "      <th>thumbsUpCount</th>\n",
       "      <th>reviewCreatedVersion</th>\n",
       "      <th>at</th>\n",
       "      <th>replyContent</th>\n",
       "      <th>repliedAt</th>\n",
       "    </tr>\n",
       "  </thead>\n",
       "  <tbody>\n",
       "    <tr>\n",
       "      <th>0</th>\n",
       "      <td>0</td>\n",
       "      <td>gp:AOqpTOEdT_VactGi_J9Q2PEWY7J4XlD7BINhOj9xwOr...</td>\n",
       "      <td>Len Pagnam</td>\n",
       "      <td>https://play-lh.googleusercontent.com/a-/AOh14...</td>\n",
       "      <td>How do add a boarding pass? I see no passes tab.</td>\n",
       "      <td>1</td>\n",
       "      <td>0</td>\n",
       "      <td>2.137.401329300</td>\n",
       "      <td>2021-11-18 17:03:06</td>\n",
       "      <td>Hi Len. Could you try the steps in this guide ...</td>\n",
       "      <td>2021-11-18 17:27:11</td>\n",
       "    </tr>\n",
       "    <tr>\n",
       "      <th>1</th>\n",
       "      <td>1</td>\n",
       "      <td>gp:AOqpTOHltpCzXurPoFUgj-a3L-wApC93-fTvocbF9K7...</td>\n",
       "      <td>Benjamin Silva</td>\n",
       "      <td>https://play-lh.googleusercontent.com/a/AATXAJ...</td>\n",
       "      <td>Best</td>\n",
       "      <td>5</td>\n",
       "      <td>0</td>\n",
       "      <td>2.134.392709498</td>\n",
       "      <td>2021-11-18 16:43:34</td>\n",
       "      <td>NaN</td>\n",
       "      <td>NaN</td>\n",
       "    </tr>\n",
       "    <tr>\n",
       "      <th>2</th>\n",
       "      <td>2</td>\n",
       "      <td>gp:AOqpTOGTiyxy_FWSQe7eCONa7PsIP6v7cS-xWCL6jFF...</td>\n",
       "      <td>PARVESH MIAR</td>\n",
       "      <td>https://play-lh.googleusercontent.com/a-/AOh14...</td>\n",
       "      <td>All ok</td>\n",
       "      <td>5</td>\n",
       "      <td>0</td>\n",
       "      <td>2.138.406141160</td>\n",
       "      <td>2021-11-18 16:12:42</td>\n",
       "      <td>NaN</td>\n",
       "      <td>NaN</td>\n",
       "    </tr>\n",
       "    <tr>\n",
       "      <th>3</th>\n",
       "      <td>3</td>\n",
       "      <td>gp:AOqpTOHllyGnmLGZqPUGokxYncq9kOKoY3Zz_4ZF6b0...</td>\n",
       "      <td>Mikko L.</td>\n",
       "      <td>https://play-lh.googleusercontent.com/a-/AOh14...</td>\n",
       "      <td>Rasy to use really... But there never, ever sh...</td>\n",
       "      <td>3</td>\n",
       "      <td>0</td>\n",
       "      <td>2.138.406141160</td>\n",
       "      <td>2021-11-18 16:06:35</td>\n",
       "      <td>NaN</td>\n",
       "      <td>NaN</td>\n",
       "    </tr>\n",
       "    <tr>\n",
       "      <th>4</th>\n",
       "      <td>4</td>\n",
       "      <td>gp:AOqpTOHjnJ6gAF4NzruhLDGVszAaTKSerVeKt-UtJfM...</td>\n",
       "      <td>A Google user</td>\n",
       "      <td>https://play-lh.googleusercontent.com/EGemoI2N...</td>\n",
       "      <td>I still do not understand why your restricting...</td>\n",
       "      <td>3</td>\n",
       "      <td>251</td>\n",
       "      <td>2.134.392709498</td>\n",
       "      <td>2021-11-18 15:48:08</td>\n",
       "      <td>NaN</td>\n",
       "      <td>NaN</td>\n",
       "    </tr>\n",
       "  </tbody>\n",
       "</table>\n",
       "</div>"
      ],
      "text/plain": [
       "   Unnamed: 0                                           reviewId  \\\n",
       "0           0  gp:AOqpTOEdT_VactGi_J9Q2PEWY7J4XlD7BINhOj9xwOr...   \n",
       "1           1  gp:AOqpTOHltpCzXurPoFUgj-a3L-wApC93-fTvocbF9K7...   \n",
       "2           2  gp:AOqpTOGTiyxy_FWSQe7eCONa7PsIP6v7cS-xWCL6jFF...   \n",
       "3           3  gp:AOqpTOHllyGnmLGZqPUGokxYncq9kOKoY3Zz_4ZF6b0...   \n",
       "4           4  gp:AOqpTOHjnJ6gAF4NzruhLDGVszAaTKSerVeKt-UtJfM...   \n",
       "\n",
       "         userName                                          userImage  \\\n",
       "0      Len Pagnam  https://play-lh.googleusercontent.com/a-/AOh14...   \n",
       "1  Benjamin Silva  https://play-lh.googleusercontent.com/a/AATXAJ...   \n",
       "2    PARVESH MIAR  https://play-lh.googleusercontent.com/a-/AOh14...   \n",
       "3        Mikko L.  https://play-lh.googleusercontent.com/a-/AOh14...   \n",
       "4   A Google user  https://play-lh.googleusercontent.com/EGemoI2N...   \n",
       "\n",
       "                                             content  score  thumbsUpCount  \\\n",
       "0   How do add a boarding pass? I see no passes tab.      1              0   \n",
       "1                                               Best      5              0   \n",
       "2                                             All ok      5              0   \n",
       "3  Rasy to use really... But there never, ever sh...      3              0   \n",
       "4  I still do not understand why your restricting...      3            251   \n",
       "\n",
       "  reviewCreatedVersion                   at  \\\n",
       "0      2.137.401329300  2021-11-18 17:03:06   \n",
       "1      2.134.392709498  2021-11-18 16:43:34   \n",
       "2      2.138.406141160  2021-11-18 16:12:42   \n",
       "3      2.138.406141160  2021-11-18 16:06:35   \n",
       "4      2.134.392709498  2021-11-18 15:48:08   \n",
       "\n",
       "                                        replyContent            repliedAt  \n",
       "0  Hi Len. Could you try the steps in this guide ...  2021-11-18 17:27:11  \n",
       "1                                                NaN                  NaN  \n",
       "2                                                NaN                  NaN  \n",
       "3                                                NaN                  NaN  \n",
       "4                                                NaN                  NaN  "
      ]
     },
     "execution_count": 20,
     "metadata": {},
     "output_type": "execute_result"
    }
   ],
   "source": [
    "google_data = google_data[google_data[\"thumbsUpCount\"] <=500]\n",
    "paytm_data = paytm_data[paytm_data[\"thumbsUpCount\"] <=550]\n",
    "phonepay_data = phonepay_data[phonepay_data[\"thumbsUpCount\"] <=100]\n",
    "google_data.head()"
   ]
  },
  {
   "cell_type": "markdown",
   "metadata": {},
   "source": [
    "**Featching the Categorical Column and finding all the NaN Values in Google dataset**"
   ]
  },
  {
   "cell_type": "code",
   "execution_count": 21,
   "metadata": {},
   "outputs": [
    {
     "data": {
      "text/plain": [
       "reviewId                    0\n",
       "userName                    1\n",
       "userImage                   0\n",
       "content                     5\n",
       "reviewCreatedVersion     4241\n",
       "at                          0\n",
       "replyContent            28106\n",
       "repliedAt               28106\n",
       "dtype: int64"
      ]
     },
     "execution_count": 21,
     "metadata": {},
     "output_type": "execute_result"
    }
   ],
   "source": [
    "cat_category = [feature for feature in google_data.columns if google_data[feature].dtypes == \"O\"]\n",
    "google_data[cat_category].isnull().sum()"
   ]
  },
  {
   "cell_type": "code",
   "execution_count": 22,
   "metadata": {},
   "outputs": [],
   "source": [
    "google_data = google_data.drop(columns=[\"reviewCreatedVersion\", \"repliedAt\"])\n",
    "google_data[\"replyContent\"] = google_data[\"replyContent\"].fillna(\"No_reply/No_data\")"
   ]
  },
  {
   "cell_type": "markdown",
   "metadata": {},
   "source": [
    "**Featching the Categorical Column and finding all the NaN Values in Paytm dataset**"
   ]
  },
  {
   "cell_type": "code",
   "execution_count": 23,
   "metadata": {},
   "outputs": [
    {
     "data": {
      "text/plain": [
       "reviewId                    0\n",
       "userName                    0\n",
       "userImage                   0\n",
       "content                     2\n",
       "reviewCreatedVersion    23665\n",
       "at                          0\n",
       "replyContent            69777\n",
       "repliedAt               69777\n",
       "dtype: int64"
      ]
     },
     "execution_count": 23,
     "metadata": {},
     "output_type": "execute_result"
    }
   ],
   "source": [
    "cat_category = [feature for feature in paytm_data.columns if paytm_data[feature].dtypes == \"O\"]\n",
    "paytm_data[cat_category].isnull().sum()"
   ]
  },
  {
   "cell_type": "code",
   "execution_count": 24,
   "metadata": {},
   "outputs": [],
   "source": [
    "paytm_data = paytm_data.drop(columns=[\"reviewCreatedVersion\",\"repliedAt\"])\n",
    "paytm_data[\"replyContent\"] = paytm_data[\"replyContent\"].fillna(\"No_reply/No_data\")"
   ]
  },
  {
   "cell_type": "markdown",
   "metadata": {},
   "source": [
    "**Featching the Categorical Column and finding all the NaN Values in PhonePay dataset**"
   ]
  },
  {
   "cell_type": "code",
   "execution_count": 25,
   "metadata": {},
   "outputs": [
    {
     "data": {
      "text/plain": [
       "reviewId                   0\n",
       "userName                   0\n",
       "userImage                  0\n",
       "content                    0\n",
       "reviewCreatedVersion    2136\n",
       "at                         0\n",
       "replyContent            8803\n",
       "repliedAt               8803\n",
       "dtype: int64"
      ]
     },
     "execution_count": 25,
     "metadata": {},
     "output_type": "execute_result"
    }
   ],
   "source": [
    "cat_category = [feature for feature in phonepay_data.columns if phonepay_data[feature].dtypes == \"O\"]\n",
    "phonepay_data[cat_category].isnull().sum()"
   ]
  },
  {
   "cell_type": "code",
   "execution_count": 26,
   "metadata": {},
   "outputs": [],
   "source": [
    "phonepay_data = phonepay_data.drop(columns=[\"reviewCreatedVersion\", \"repliedAt\"])\n",
    "phonepay_data[\"replyContent\"] = phonepay_data[\"replyContent\"].fillna(\"No_reply/No_data\")"
   ]
  },
  {
   "cell_type": "code",
   "execution_count": 27,
   "metadata": {},
   "outputs": [],
   "source": [
    "google_data = google_data.drop([\"Unnamed: 0\", \"reviewId\", \"userName\", \"userImage\"],axis=1)\n",
    "paytm_data = paytm_data.drop([\"Unnamed: 0\", \"reviewId\", \"userName\", \"userImage\"],axis=1)\n",
    "phonepay_data = phonepay_data.drop([\"Unnamed: 0\", \"reviewId\", \"userName\", \"userImage\"],axis=1)"
   ]
  },
  {
   "cell_type": "code",
   "execution_count": 28,
   "metadata": {},
   "outputs": [],
   "source": [
    "google_data[\"upi_company\"] = \"Google\"\n",
    "paytm_data[\"upi_company\"] = \"paytm\"\n",
    "phonepay_data[\"upi_company\"] = \"phonepay\""
   ]
  },
  {
   "cell_type": "code",
   "execution_count": 29,
   "metadata": {},
   "outputs": [
    {
     "data": {
      "text/html": [
       "<div>\n",
       "<style scoped>\n",
       "    .dataframe tbody tr th:only-of-type {\n",
       "        vertical-align: middle;\n",
       "    }\n",
       "\n",
       "    .dataframe tbody tr th {\n",
       "        vertical-align: top;\n",
       "    }\n",
       "\n",
       "    .dataframe thead th {\n",
       "        text-align: right;\n",
       "    }\n",
       "</style>\n",
       "<table border=\"1\" class=\"dataframe\">\n",
       "  <thead>\n",
       "    <tr style=\"text-align: right;\">\n",
       "      <th></th>\n",
       "      <th>content</th>\n",
       "      <th>score</th>\n",
       "      <th>thumbsUpCount</th>\n",
       "      <th>review_created_at</th>\n",
       "      <th>replyContent</th>\n",
       "      <th>upi_company</th>\n",
       "    </tr>\n",
       "  </thead>\n",
       "  <tbody>\n",
       "    <tr>\n",
       "      <th>0</th>\n",
       "      <td>On which authority you charging extra for mobi...</td>\n",
       "      <td>1</td>\n",
       "      <td>0</td>\n",
       "      <td>2021-11-13 14:04:45</td>\n",
       "      <td>No_reply/No_data</td>\n",
       "      <td>phonepay</td>\n",
       "    </tr>\n",
       "    <tr>\n",
       "      <th>1</th>\n",
       "      <td>After moving beta version many problems</td>\n",
       "      <td>2</td>\n",
       "      <td>0</td>\n",
       "      <td>2021-11-13 13:17:37</td>\n",
       "      <td>Hi Arun, this is definitely not the experience...</td>\n",
       "      <td>phonepay</td>\n",
       "    </tr>\n",
       "    <tr>\n",
       "      <th>2</th>\n",
       "      <td>Everything goods app</td>\n",
       "      <td>5</td>\n",
       "      <td>0</td>\n",
       "      <td>2021-11-12 11:33:42</td>\n",
       "      <td>No_reply/No_data</td>\n",
       "      <td>phonepay</td>\n",
       "    </tr>\n",
       "    <tr>\n",
       "      <th>3</th>\n",
       "      <td>Nice</td>\n",
       "      <td>3</td>\n",
       "      <td>0</td>\n",
       "      <td>2021-11-10 18:56:14</td>\n",
       "      <td>Thank you for the feedback, Dipak. We are real...</td>\n",
       "      <td>phonepay</td>\n",
       "    </tr>\n",
       "    <tr>\n",
       "      <th>4</th>\n",
       "      <td>Good</td>\n",
       "      <td>4</td>\n",
       "      <td>0</td>\n",
       "      <td>2021-11-17 08:15:44</td>\n",
       "      <td>Thank you for the feedback. We will keep worki...</td>\n",
       "      <td>phonepay</td>\n",
       "    </tr>\n",
       "  </tbody>\n",
       "</table>\n",
       "</div>"
      ],
      "text/plain": [
       "                                             content  score  thumbsUpCount  \\\n",
       "0  On which authority you charging extra for mobi...      1              0   \n",
       "1            After moving beta version many problems      2              0   \n",
       "2                               Everything goods app      5              0   \n",
       "3                                               Nice      3              0   \n",
       "4                                               Good      4              0   \n",
       "\n",
       "     review_created_at                                       replyContent  \\\n",
       "0  2021-11-13 14:04:45                                   No_reply/No_data   \n",
       "1  2021-11-13 13:17:37  Hi Arun, this is definitely not the experience...   \n",
       "2  2021-11-12 11:33:42                                   No_reply/No_data   \n",
       "3  2021-11-10 18:56:14  Thank you for the feedback, Dipak. We are real...   \n",
       "4  2021-11-17 08:15:44  Thank you for the feedback. We will keep worki...   \n",
       "\n",
       "  upi_company  \n",
       "0    phonepay  \n",
       "1    phonepay  \n",
       "2    phonepay  \n",
       "3    phonepay  \n",
       "4    phonepay  "
      ]
     },
     "execution_count": 29,
     "metadata": {},
     "output_type": "execute_result"
    }
   ],
   "source": [
    "google_data = google_data.sample(frac=1).reset_index(drop=True)\n",
    "paytm_data = paytm_data.sample(frac=1).reset_index(drop=True)\n",
    "phonepay_data = phonepay_data.sample(frac=1).reset_index(drop=True)\n",
    "\n",
    "data = phonepay_data.append([paytm_data[:11735 ], google_data[:11735]], ignore_index=True)\n",
    "\n",
    "data = data.rename(columns={\"at\": \"review_created_at\"})\n",
    "data.head()"
   ]
  },
  {
   "cell_type": "code",
   "execution_count": 30,
   "metadata": {},
   "outputs": [
    {
     "data": {
      "text/html": [
       "<div>\n",
       "<style scoped>\n",
       "    .dataframe tbody tr th:only-of-type {\n",
       "        vertical-align: middle;\n",
       "    }\n",
       "\n",
       "    .dataframe tbody tr th {\n",
       "        vertical-align: top;\n",
       "    }\n",
       "\n",
       "    .dataframe thead th {\n",
       "        text-align: right;\n",
       "    }\n",
       "</style>\n",
       "<table border=\"1\" class=\"dataframe\">\n",
       "  <thead>\n",
       "    <tr style=\"text-align: right;\">\n",
       "      <th></th>\n",
       "      <th>content</th>\n",
       "      <th>score</th>\n",
       "      <th>thumbsUpCount</th>\n",
       "      <th>review_created_at</th>\n",
       "      <th>replyContent</th>\n",
       "      <th>upi_company</th>\n",
       "    </tr>\n",
       "  </thead>\n",
       "  <tbody>\n",
       "    <tr>\n",
       "      <th>0</th>\n",
       "      <td>Good</td>\n",
       "      <td>5</td>\n",
       "      <td>0</td>\n",
       "      <td>2021-09-11 22:32:00</td>\n",
       "      <td>Awesome! It's been our pleasure. You can also ...</td>\n",
       "      <td>paytm</td>\n",
       "    </tr>\n",
       "    <tr>\n",
       "      <th>1</th>\n",
       "      <td>Hate how google has taken over everything and ...</td>\n",
       "      <td>1</td>\n",
       "      <td>0</td>\n",
       "      <td>2021-10-31 12:10:21</td>\n",
       "      <td>No_reply/No_data</td>\n",
       "      <td>Google</td>\n",
       "    </tr>\n",
       "    <tr>\n",
       "      <th>2</th>\n",
       "      <td>Bloatware. Just another Google app I can't get...</td>\n",
       "      <td>1</td>\n",
       "      <td>0</td>\n",
       "      <td>2020-11-28 06:41:06</td>\n",
       "      <td>No_reply/No_data</td>\n",
       "      <td>Google</td>\n",
       "    </tr>\n",
       "    <tr>\n",
       "      <th>3</th>\n",
       "      <td>Awesome service</td>\n",
       "      <td>5</td>\n",
       "      <td>0</td>\n",
       "      <td>2021-09-22 18:00:26</td>\n",
       "      <td>No_reply/No_data</td>\n",
       "      <td>paytm</td>\n",
       "    </tr>\n",
       "    <tr>\n",
       "      <th>4</th>\n",
       "      <td>Good</td>\n",
       "      <td>5</td>\n",
       "      <td>0</td>\n",
       "      <td>2021-10-04 21:11:09</td>\n",
       "      <td>Awesome! It's been our pleasure. You can also ...</td>\n",
       "      <td>paytm</td>\n",
       "    </tr>\n",
       "  </tbody>\n",
       "</table>\n",
       "</div>"
      ],
      "text/plain": [
       "                                             content  score  thumbsUpCount  \\\n",
       "0                                               Good      5              0   \n",
       "1  Hate how google has taken over everything and ...      1              0   \n",
       "2  Bloatware. Just another Google app I can't get...      1              0   \n",
       "3                                    Awesome service      5              0   \n",
       "4                                               Good      5              0   \n",
       "\n",
       "     review_created_at                                       replyContent  \\\n",
       "0  2021-09-11 22:32:00  Awesome! It's been our pleasure. You can also ...   \n",
       "1  2021-10-31 12:10:21                                   No_reply/No_data   \n",
       "2  2020-11-28 06:41:06                                   No_reply/No_data   \n",
       "3  2021-09-22 18:00:26                                   No_reply/No_data   \n",
       "4  2021-10-04 21:11:09  Awesome! It's been our pleasure. You can also ...   \n",
       "\n",
       "  upi_company  \n",
       "0       paytm  \n",
       "1      Google  \n",
       "2      Google  \n",
       "3       paytm  \n",
       "4       paytm  "
      ]
     },
     "execution_count": 30,
     "metadata": {},
     "output_type": "execute_result"
    }
   ],
   "source": [
    "data = data.sample(frac=1).reset_index(drop=True)\n",
    "data.head()"
   ]
  },
  {
   "cell_type": "code",
   "execution_count": 31,
   "metadata": {},
   "outputs": [
    {
     "data": {
      "text/html": [
       "<div>\n",
       "<style scoped>\n",
       "    .dataframe tbody tr th:only-of-type {\n",
       "        vertical-align: middle;\n",
       "    }\n",
       "\n",
       "    .dataframe tbody tr th {\n",
       "        vertical-align: top;\n",
       "    }\n",
       "\n",
       "    .dataframe thead th {\n",
       "        text-align: right;\n",
       "    }\n",
       "</style>\n",
       "<table border=\"1\" class=\"dataframe\">\n",
       "  <thead>\n",
       "    <tr style=\"text-align: right;\">\n",
       "      <th></th>\n",
       "      <th>upi_company</th>\n",
       "      <th>Year</th>\n",
       "      <th>month</th>\n",
       "      <th>content</th>\n",
       "      <th>score</th>\n",
       "      <th>thumbsUpCount</th>\n",
       "      <th>replyContent</th>\n",
       "    </tr>\n",
       "  </thead>\n",
       "  <tbody>\n",
       "    <tr>\n",
       "      <th>0</th>\n",
       "      <td>paytm</td>\n",
       "      <td>2021</td>\n",
       "      <td>9</td>\n",
       "      <td>Good</td>\n",
       "      <td>5</td>\n",
       "      <td>0</td>\n",
       "      <td>Awesome! It's been our pleasure. You can also ...</td>\n",
       "    </tr>\n",
       "    <tr>\n",
       "      <th>1</th>\n",
       "      <td>Google</td>\n",
       "      <td>2021</td>\n",
       "      <td>10</td>\n",
       "      <td>Hate how google has taken over everything and ...</td>\n",
       "      <td>1</td>\n",
       "      <td>0</td>\n",
       "      <td>No_reply/No_data</td>\n",
       "    </tr>\n",
       "    <tr>\n",
       "      <th>2</th>\n",
       "      <td>Google</td>\n",
       "      <td>2020</td>\n",
       "      <td>11</td>\n",
       "      <td>Bloatware. Just another Google app I can't get...</td>\n",
       "      <td>1</td>\n",
       "      <td>0</td>\n",
       "      <td>No_reply/No_data</td>\n",
       "    </tr>\n",
       "    <tr>\n",
       "      <th>3</th>\n",
       "      <td>paytm</td>\n",
       "      <td>2021</td>\n",
       "      <td>9</td>\n",
       "      <td>Awesome service</td>\n",
       "      <td>5</td>\n",
       "      <td>0</td>\n",
       "      <td>No_reply/No_data</td>\n",
       "    </tr>\n",
       "    <tr>\n",
       "      <th>4</th>\n",
       "      <td>paytm</td>\n",
       "      <td>2021</td>\n",
       "      <td>10</td>\n",
       "      <td>Good</td>\n",
       "      <td>5</td>\n",
       "      <td>0</td>\n",
       "      <td>Awesome! It's been our pleasure. You can also ...</td>\n",
       "    </tr>\n",
       "  </tbody>\n",
       "</table>\n",
       "</div>"
      ],
      "text/plain": [
       "  upi_company  Year  month                                            content  \\\n",
       "0       paytm  2021      9                                               Good   \n",
       "1      Google  2021     10  Hate how google has taken over everything and ...   \n",
       "2      Google  2020     11  Bloatware. Just another Google app I can't get...   \n",
       "3       paytm  2021      9                                    Awesome service   \n",
       "4       paytm  2021     10                                               Good   \n",
       "\n",
       "   score  thumbsUpCount                                       replyContent  \n",
       "0      5              0  Awesome! It's been our pleasure. You can also ...  \n",
       "1      1              0                                   No_reply/No_data  \n",
       "2      1              0                                   No_reply/No_data  \n",
       "3      5              0                                   No_reply/No_data  \n",
       "4      5              0  Awesome! It's been our pleasure. You can also ...  "
      ]
     },
     "execution_count": 31,
     "metadata": {},
     "output_type": "execute_result"
    }
   ],
   "source": [
    "data[\"review_created_at\"] = pd.to_datetime(data[\"review_created_at\"])\n",
    "data[\"Year\"] = data['review_created_at'].dt.year\n",
    "data[\"month\"] = data['review_created_at'].dt.month\n",
    "data = data[[\"upi_company\", \"Year\", \"month\", \"content\", \"score\", \"thumbsUpCount\", \"replyContent\"]]\n",
    "data.head()"
   ]
  },
  {
   "cell_type": "code",
   "execution_count": 32,
   "metadata": {},
   "outputs": [
    {
     "data": {
      "text/html": [
       "<div>\n",
       "<style scoped>\n",
       "    .dataframe tbody tr th:only-of-type {\n",
       "        vertical-align: middle;\n",
       "    }\n",
       "\n",
       "    .dataframe tbody tr th {\n",
       "        vertical-align: top;\n",
       "    }\n",
       "\n",
       "    .dataframe thead th {\n",
       "        text-align: right;\n",
       "    }\n",
       "</style>\n",
       "<table border=\"1\" class=\"dataframe\">\n",
       "  <thead>\n",
       "    <tr style=\"text-align: right;\">\n",
       "      <th></th>\n",
       "      <th>upi_company</th>\n",
       "      <th>Year</th>\n",
       "      <th>month</th>\n",
       "      <th>content</th>\n",
       "      <th>score</th>\n",
       "      <th>thumbsUpCount</th>\n",
       "      <th>replyContent</th>\n",
       "    </tr>\n",
       "  </thead>\n",
       "  <tbody>\n",
       "    <tr>\n",
       "      <th>0</th>\n",
       "      <td>paytm</td>\n",
       "      <td>2021</td>\n",
       "      <td>9</td>\n",
       "      <td>Good</td>\n",
       "      <td>Excellent</td>\n",
       "      <td>0</td>\n",
       "      <td>Awesome! It's been our pleasure. You can also ...</td>\n",
       "    </tr>\n",
       "    <tr>\n",
       "      <th>1</th>\n",
       "      <td>Google</td>\n",
       "      <td>2021</td>\n",
       "      <td>10</td>\n",
       "      <td>Hate how google has taken over everything and ...</td>\n",
       "      <td>very Negative</td>\n",
       "      <td>0</td>\n",
       "      <td>No_reply/No_data</td>\n",
       "    </tr>\n",
       "    <tr>\n",
       "      <th>2</th>\n",
       "      <td>Google</td>\n",
       "      <td>2020</td>\n",
       "      <td>11</td>\n",
       "      <td>Bloatware. Just another Google app I can't get...</td>\n",
       "      <td>very Negative</td>\n",
       "      <td>0</td>\n",
       "      <td>No_reply/No_data</td>\n",
       "    </tr>\n",
       "    <tr>\n",
       "      <th>3</th>\n",
       "      <td>paytm</td>\n",
       "      <td>2021</td>\n",
       "      <td>9</td>\n",
       "      <td>Awesome service</td>\n",
       "      <td>Excellent</td>\n",
       "      <td>0</td>\n",
       "      <td>No_reply/No_data</td>\n",
       "    </tr>\n",
       "    <tr>\n",
       "      <th>4</th>\n",
       "      <td>paytm</td>\n",
       "      <td>2021</td>\n",
       "      <td>10</td>\n",
       "      <td>Good</td>\n",
       "      <td>Excellent</td>\n",
       "      <td>0</td>\n",
       "      <td>Awesome! It's been our pleasure. You can also ...</td>\n",
       "    </tr>\n",
       "  </tbody>\n",
       "</table>\n",
       "</div>"
      ],
      "text/plain": [
       "  upi_company  Year  month                                            content  \\\n",
       "0       paytm  2021      9                                               Good   \n",
       "1      Google  2021     10  Hate how google has taken over everything and ...   \n",
       "2      Google  2020     11  Bloatware. Just another Google app I can't get...   \n",
       "3       paytm  2021      9                                    Awesome service   \n",
       "4       paytm  2021     10                                               Good   \n",
       "\n",
       "           score  thumbsUpCount  \\\n",
       "0      Excellent              0   \n",
       "1  very Negative              0   \n",
       "2  very Negative              0   \n",
       "3      Excellent              0   \n",
       "4      Excellent              0   \n",
       "\n",
       "                                        replyContent  \n",
       "0  Awesome! It's been our pleasure. You can also ...  \n",
       "1                                   No_reply/No_data  \n",
       "2                                   No_reply/No_data  \n",
       "3                                   No_reply/No_data  \n",
       "4  Awesome! It's been our pleasure. You can also ...  "
      ]
     },
     "execution_count": 32,
     "metadata": {},
     "output_type": "execute_result"
    }
   ],
   "source": [
    "scores = [0, 1, 2, 3, 4, 5]\n",
    "scores_name = [\"very Negative\", \"Negative\", \"Average\", \"Positive\", \"Excellent\"]\n",
    "data[\"score\"] = pd.cut(data[\"score\"],scores, labels=scores_name)\n",
    "data.head()"
   ]
  },
  {
   "cell_type": "code",
   "execution_count": 33,
   "metadata": {},
   "outputs": [],
   "source": [
    "backup_data = data.copy()"
   ]
  },
  {
   "cell_type": "markdown",
   "metadata": {},
   "source": [
    "**EDA**"
   ]
  },
  {
   "cell_type": "markdown",
   "metadata": {},
   "source": [
    "EDA On Google"
   ]
  },
  {
   "cell_type": "code",
   "execution_count": 34,
   "metadata": {},
   "outputs": [
    {
     "data": {
      "image/png": "[encoded data removed]",
      "text/plain": [
       "<Figure size 1080x432 with 1 Axes>"
      ]
     },
     "metadata": {
      "needs_background": "light"
     },
     "output_type": "display_data"
    }
   ],
   "source": [
    "google_data[\"reply_given\"] = google_data[\"replyContent\"].apply(lambda x: \"reply Given\" if x != 'No_reply/No_data' else \"No Reply\")\n",
    "\n",
    "plt.figure(figsize=(15,6))\n",
    "sns.countplot(x=\"score\", hue=\"reply_given\", data=google_data)\n",
    "plt.title('Bar Plot To get relationship Between Scores and Reply Given By Management')\n",
    "plt.show()"
   ]
  },
  {
   "cell_type": "code",
   "execution_count": 35,
   "metadata": {},
   "outputs": [
    {
     "data": {
      "image/png": "[encoded data removed]",
      "text/plain": [
       "<Figure size 1080x432 with 1 Axes>"
      ]
     },
     "metadata": {
      "needs_background": "light"
     },
     "output_type": "display_data"
    }
   ],
   "source": [
    "plt.figure(figsize=(15,6))\n",
    "sns.barplot(x=\"score\", y=\"thumbsUpCount\", data=google_data)\n",
    "plt.title('Bar Plot To get relationship Between Scores and ThumbsUpCount')\n",
    "plt.show()"
   ]
  },
  {
   "cell_type": "markdown",
   "metadata": {},
   "source": [
    "EDA On Paytm"
   ]
  },
  {
   "cell_type": "code",
   "execution_count": 36,
   "metadata": {},
   "outputs": [
    {
     "data": {
      "image/png": "[encoded data removed]",
      "text/plain": [
       "<Figure size 1080x432 with 1 Axes>"
      ]
     },
     "metadata": {
      "needs_background": "light"
     },
     "output_type": "display_data"
    }
   ],
   "source": [
    "paytm_data[\"reply_given\"] = paytm_data[\"replyContent\"].apply(lambda x: \"reply Given\" if x != 'No_reply/No_data' else \"No Reply\")\n",
    "\n",
    "plt.figure(figsize=(15,6))\n",
    "sns.countplot(x=\"score\", hue=\"reply_given\", data=paytm_data)\n",
    "plt.title('Bar Plot To get relationship Between Scores and Reply Given By Management')\n",
    "plt.show()"
   ]
  },
  {
   "cell_type": "code",
   "execution_count": 37,
   "metadata": {},
   "outputs": [
    {
     "data": {
      "image/png": "[encoded data removed]",
      "text/plain": [
       "<Figure size 1080x432 with 1 Axes>"
      ]
     },
     "metadata": {
      "needs_background": "light"
     },
     "output_type": "display_data"
    }
   ],
   "source": [
    "plt.figure(figsize=(15,6))\n",
    "sns.barplot(x=\"score\", y=\"thumbsUpCount\", data=paytm_data)\n",
    "plt.title('Bar Plot To get relationship Between Scores and ThumbsUpCount')\n",
    "plt.show()"
   ]
  },
  {
   "cell_type": "markdown",
   "metadata": {},
   "source": [
    "EDA On PhonePay"
   ]
  },
  {
   "cell_type": "code",
   "execution_count": 38,
   "metadata": {},
   "outputs": [
    {
     "data": {
      "image/png": "[encoded data removed]",
      "text/plain": [
       "<Figure size 1080x432 with 1 Axes>"
      ]
     },
     "metadata": {
      "needs_background": "light"
     },
     "output_type": "display_data"
    }
   ],
   "source": [
    "phonepay_data[\"reply_given\"] = phonepay_data[\"replyContent\"].apply(lambda x: \"reply Given\" if x != 'No_reply/No_data' else \"No Reply\")\n",
    "\n",
    "plt.figure(figsize=(15,6))\n",
    "sns.countplot(x=\"score\", hue=\"reply_given\", data=phonepay_data)\n",
    "plt.title('Bar Plot To get relationship Between Scores and Reply Given By Management')\n",
    "plt.show()"
   ]
  },
  {
   "cell_type": "code",
   "execution_count": 39,
   "metadata": {},
   "outputs": [
    {
     "data": {
      "image/png": "[encoded data removed]",
      "text/plain": [
       "<Figure size 1080x432 with 1 Axes>"
      ]
     },
     "metadata": {
      "needs_background": "light"
     },
     "output_type": "display_data"
    }
   ],
   "source": [
    "plt.figure(figsize=(15,6))\n",
    "sns.barplot(x=\"score\", y=\"thumbsUpCount\", data=phonepay_data)\n",
    "plt.title('Bar Plot To get relationship Between Scores and ThumbsUpCount')\n",
    "plt.show()"
   ]
  },
  {
   "cell_type": "markdown",
   "metadata": {},
   "source": [
    "**EDA On all the companies**"
   ]
  },
  {
   "cell_type": "code",
   "execution_count": 40,
   "metadata": {},
   "outputs": [
    {
     "data": {
      "image/png": "[encoded data removed]",
      "text/plain": [
       "<Figure size 1080x432 with 1 Axes>"
      ]
     },
     "metadata": {
      "needs_background": "light"
     },
     "output_type": "display_data"
    }
   ],
   "source": [
    "plt.figure(figsize=(15,6))\n",
    "sns.countplot(x=\"score\", hue=\"upi_company\", data=data)\n",
    "plt.title('Bar Plot To Show which Company has maximum number of reviews in all category')\n",
    "plt.show()"
   ]
  },
  {
   "cell_type": "code",
   "execution_count": 41,
   "metadata": {},
   "outputs": [
    {
     "data": {
      "image/png": "[encoded data removed]",
      "text/plain": [
       "<Figure size 1080x432 with 1 Axes>"
      ]
     },
     "metadata": {
      "needs_background": "light"
     },
     "output_type": "display_data"
    }
   ],
   "source": [
    "plt.figure(figsize=(15,6))\n",
    "sns.barplot(x=\"score\", y=\"thumbsUpCount\", hue=\"upi_company\", data=data)\n",
    "plt.title('Bar Plot To Show which Company has more number of votes in all scores Category')\n",
    "plt.show()"
   ]
  },
  {
   "cell_type": "code",
   "execution_count": 42,
   "metadata": {},
   "outputs": [
    {
     "data": {
      "image/png": "[encoded data removed]",
      "text/plain": [
       "<Figure size 1080x432 with 1 Axes>"
      ]
     },
     "metadata": {
      "needs_background": "light"
     },
     "output_type": "display_data"
    }
   ],
   "source": [
    "plt.figure(figsize=(15,6))\n",
    "sns.countplot(data=data, x=\"Year\", hue=\"upi_company\")\n",
    "plt.title('Bar Plot To Show which Company has how much number of feedbacks in Years')\n",
    "plt.show()"
   ]
  },
  {
   "cell_type": "markdown",
   "metadata": {},
   "source": []
  },
  {
   "cell_type": "code",
   "execution_count": 43,
   "metadata": {},
   "outputs": [
    {
     "data": {
      "image/png": "[encoded data removed]",
      "text/plain": [
       "<Figure size 1080x432 with 1 Axes>"
      ]
     },
     "metadata": {
      "needs_background": "light"
     },
     "output_type": "display_data"
    }
   ],
   "source": [
    "plt.figure(figsize=(15,6))\n",
    "sns.countplot(data=data, x=\"month\", hue=\"upi_company\")\n",
    "plt.title('Bar Plot To Show which Company has how much number of feedbacks in Months')\n",
    "plt.show()"
   ]
  },
  {
   "cell_type": "markdown",
   "metadata": {},
   "source": [
    "**Overall Paytm currently provides the Best Services in terms of UPI Payment as it has the most number of ratings but Phonepay is also not much behind with little more effort Phonepay can win the game but Google has to work harder to compete with these companies as their rating is the least when compared to other two.**"
   ]
  }
 ],
 "metadata": {
  "interpreter": {
   "hash": "d14af6c305808bc4e1c61270fe37b8ef6b0abf40b268aa95c675837e8cd02c2e"
  },
  "kernelspec": {
   "display_name": "Python 3.10.1 64-bit",
   "language": "python",
   "name": "python3"
  },
  "language_info": {
   "codemirror_mode": {
    "name": "ipython",
    "version": 3
   },
   "file_extension": ".py",
   "mimetype": "text/x-python",
   "name": "python",
   "nbconvert_exporter": "python",
   "pygments_lexer": "ipython3",
   "version": "3.10.1"
  },
  "orig_nbformat": 4
 },
 "nbformat": 4,
 "nbformat_minor": 2
}
